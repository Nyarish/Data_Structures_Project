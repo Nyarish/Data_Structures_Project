{
 "cells": [
  {
   "cell_type": "code",
   "execution_count": 1,
   "metadata": {},
   "outputs": [
    {
     "name": "stdout",
     "output_type": "stream",
     "text": [
      "['Problem 2 File Recursion.ipynb', '.DS_Store', 'README.md', 'testdir', '.ipynb_checkpoints', '.git', 'Problem 1 Least Recently Used (LRU) cache.ipynb']\n",
      "False\n",
      "True\n"
     ]
    }
   ],
   "source": [
    "## Locally save and call this file ex.py ##\n",
    "\n",
    "# Code to demonstrate the use of some of the OS modules in python\n",
    "\n",
    "import os\n",
    "\n",
    "# Let us print the files in the directory in which you are running this script\n",
    "print (os.listdir(\".\"))\n",
    "\n",
    "# Let us check if this file is indeed a file!\n",
    "print (os.path.isfile(\"./ex.py\"))\n",
    "\n",
    "# Does the file end with .py?\n",
    "print (\"./ex.py\".endswith(\".py\"))"
   ]
  },
  {
   "cell_type": "code",
   "execution_count": 2,
   "metadata": {},
   "outputs": [],
   "source": [
    "def find_files(suffix, path):\n",
    "    \"\"\"\n",
    "    Find all files beneath path with file name suffix.\n",
    "\n",
    "    Note that a path may contain further subdirectories\n",
    "    and those subdirectories may also contain further subdirectories.\n",
    "\n",
    "    There are no limit to the depth of the subdirectories can be.\n",
    "\n",
    "    Args:\n",
    "      suffix(str): suffix if the file name to be found\n",
    "      path(str): path of the file system\n",
    "\n",
    "    Returns:\n",
    "       a list of paths\n",
    "    \"\"\"\n",
    "    \n",
    "    if suffix == \"\":\n",
    "        return []\n",
    "    if len(os.listdir(path)) == 0:\n",
    "        return []\n",
    "    \n",
    "    path_items = os.listdir(path)\n",
    "    path_files = [file for file in path_items if (\".\" + suffix) in file]\n",
    "    path_folders = [folder for folder in path_items if \".\" not in folder]\n",
    "    \n",
    "    for folder in path_folders:\n",
    "        path_files.extend(find_files(suffix=suffix, path=path + '/' + folder))\n",
    "        \n",
    "    return path_files"
   ]
  },
  {
   "cell_type": "code",
   "execution_count": 8,
   "metadata": {},
   "outputs": [
    {
     "name": "stdout",
     "output_type": "stream",
     "text": [
      "['t1.c', 'b.c', 'a.c', 'a.c']\n",
      "['t1.h', 'b.h', 'a.h', 'a.h']\n",
      "['.gitkeep', '.gitkeep']\n",
      "[]\n"
     ]
    }
   ],
   "source": [
    "# Tests\n",
    "path_base = os.getcwd() + '/testdir'\n",
    "\n",
    "# Testcase 1\n",
    "print(find_files(suffix='c', path=path_base))\n",
    "\n",
    "# Testscase 2\n",
    "print(find_files(suffix='h', path=path_base))\n",
    "\n",
    "\n",
    "# Testcase 3\n",
    "print(find_files(suffix='gitkeep', path=path_base))\n",
    "\n",
    "\n",
    "# Testcase 4\n",
    "print(find_files(suffix='x', path=path_base))"
   ]
  },
  {
   "cell_type": "code",
   "execution_count": null,
   "metadata": {},
   "outputs": [],
   "source": [
    "./testdir\n",
    "./testdir/subdir1\n",
    "./testdir/subdir1/a.c\n",
    "./testdir/subdir1/a.h\n",
    "./testdir/subdir2\n",
    "./testdir/subdir2/.gitkeep\n",
    "./testdir/subdir3\n",
    "./testdir/subdir3/subsubdir1\n",
    "./testdir/subdir3/subsubdir1/b.c\n",
    "./testdir/subdir3/subsubdir1/b.h\n",
    "./testdir/subdir4\n",
    "./testdir/subdir4/.gitkeep\n",
    "./testdir/subdir5\n",
    "./testdir/subdir5/a.c\n",
    "./testdir/subdir5/a.h\n",
    "./testdir/t1.c\n",
    "./testdir/t1.h"
   ]
  }
 ],
 "metadata": {
  "kernelspec": {
   "display_name": "Python 3",
   "language": "python",
   "name": "python3"
  },
  "language_info": {
   "codemirror_mode": {
    "name": "ipython",
    "version": 3
   },
   "file_extension": ".py",
   "mimetype": "text/x-python",
   "name": "python",
   "nbconvert_exporter": "python",
   "pygments_lexer": "ipython3",
   "version": "3.7.6"
  }
 },
 "nbformat": 4,
 "nbformat_minor": 4
}
